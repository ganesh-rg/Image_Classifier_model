{
 "cells": [
  {
   "cell_type": "code",
   "execution_count": 70,
   "id": "3357796d",
   "metadata": {},
   "outputs": [],
   "source": [
    "class HashTable:\n",
    "    def __init__(self, Max_value):\n",
    "        self.MAX = Max_value\n",
    "        self.arr = [[] for i in range(self.MAX)]\n",
    "\n",
    "    def get_hash(self, key):\n",
    "        h = 0\n",
    "        for char in key:\n",
    "            h += ord(char)\n",
    "        return h % self.MAX\n",
    "\n",
    "    def __setitem__(self, key, value): # adds the value like a dictionary\n",
    "        h = self.get_hash(key)\n",
    "        found = False\n",
    "        for index, element in enumerate(self.arr[h]):\n",
    "            if len(element) == 2 and element[0] == key:\n",
    "                self.arr[h][index]= (key,value)\n",
    "                found =True\n",
    "                break\n",
    "        if not found:\n",
    "            self.arr[h].append((key,value))\n",
    "        \n",
    "        \n",
    "        \n",
    "    def __getitem__(self,key):# gets the value like dictionary\n",
    "        h = self.get_hash(key) \n",
    "        for element in self.arr[h]:\n",
    "            if element[0] == key:\n",
    "                return element[1]\n",
    "        \n",
    "    \n",
    "    def __delitem__(self, key):\n",
    "        self.arr[self.get_hash(key)] = None\n",
    "        "
   ]
  },
  {
   "cell_type": "code",
   "execution_count": 71,
   "id": "199ad456",
   "metadata": {},
   "outputs": [],
   "source": [
    "t= HashTable(10)"
   ]
  },
  {
   "cell_type": "code",
   "execution_count": 72,
   "id": "cb18ada6",
   "metadata": {},
   "outputs": [],
   "source": [
    "t['March 20'] = 25\n",
    "t['March 11'] = 30    #__setitem__ funtion is called"
   ]
  },
  {
   "cell_type": "code",
   "execution_count": 73,
   "id": "4edea915",
   "metadata": {},
   "outputs": [],
   "source": [
    "t['March 12'] #__getitem__ is called"
   ]
  },
  {
   "cell_type": "code",
   "execution_count": 74,
   "id": "4aacf469",
   "metadata": {},
   "outputs": [
    {
     "data": {
      "text/plain": [
       "('March 20', 25)"
      ]
     },
     "execution_count": 74,
     "metadata": {},
     "output_type": "execute_result"
    }
   ],
   "source": [
    "t['March 20']"
   ]
  },
  {
   "cell_type": "code",
   "execution_count": null,
   "id": "f58c269a",
   "metadata": {},
   "outputs": [],
   "source": []
  },
  {
   "cell_type": "code",
   "execution_count": 76,
   "id": "b105c761",
   "metadata": {},
   "outputs": [
    {
     "data": {
      "text/plain": [
       "[[], [('March 20', 25), ('March 11', 30)], [], [], [], [], [], [], [], []]"
      ]
     },
     "execution_count": 76,
     "metadata": {},
     "output_type": "execute_result"
    }
   ],
   "source": [
    "t.arr"
   ]
  },
  {
   "cell_type": "code",
   "execution_count": null,
   "id": "9b4e7ff5",
   "metadata": {},
   "outputs": [],
   "source": []
  }
 ],
 "metadata": {
  "kernelspec": {
   "display_name": "Python 3 (ipykernel)",
   "language": "python",
   "name": "python3"
  },
  "language_info": {
   "codemirror_mode": {
    "name": "ipython",
    "version": 3
   },
   "file_extension": ".py",
   "mimetype": "text/x-python",
   "name": "python",
   "nbconvert_exporter": "python",
   "pygments_lexer": "ipython3",
   "version": "3.8.12"
  }
 },
 "nbformat": 4,
 "nbformat_minor": 5
}
